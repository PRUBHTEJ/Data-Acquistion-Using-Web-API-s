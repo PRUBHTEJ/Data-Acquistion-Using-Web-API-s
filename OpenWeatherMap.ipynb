# In this file, it has been depicted how we can acquire the data of a particular place from the website openWeatherMap.org

from urllib.request import urlopen
api_url = "http://samples.openweathermap.org/data/2.5/weather?q=London,uk&appid=439d4b804bc8187953eb36d2a8c26a02"
url_result = urlopen(api_url)
print(url_result) # Here we've got that HTTP response
data = url_result.read()
print(data)
print(type(data))
import json
json_data = json.loads(data)
print(json_data)
print(type(json_data)) # We've converted the byte type into JSON type
json_data['coord'] #Printing the coordinates of location
# convert json to string
json_string = json.dumps(json_data)
print(json_string)
print(type(json_string))
